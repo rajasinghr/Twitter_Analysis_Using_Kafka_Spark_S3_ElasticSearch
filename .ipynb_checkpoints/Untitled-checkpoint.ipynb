{
 "cells": [
  {
   "cell_type": "code",
   "execution_count": 3,
   "metadata": {},
   "outputs": [],
   "source": [
    "import os\n",
    "from pyspark.streaming.kafka import KafkaUtils\n",
    "import json\n",
    "from pyspark import SparkContext\n",
    "from pyspark.streaming import StreamingContext\n",
    "os.environ['PYSPARK_SUBMIT_ARGS'] = '--packages org.apache.spark:spark-streaming-kafka-0-8_2.11:2.1.0 pyspark-shell'\n"
   ]
  },
  {
   "cell_type": "code",
   "execution_count": 4,
   "metadata": {},
   "outputs": [],
   "source": [
    "\n",
    "sc = SparkContext(appName=\"PythonSparkStreamingKafka\")\n",
    "sc.setLogLevel(\"WARN\")\n"
   ]
  },
  {
   "cell_type": "code",
   "execution_count": null,
   "metadata": {},
   "outputs": [
    {
     "name": "stdout",
     "output_type": "stream",
     "text": [
      "-------------------------------------------\n",
      "Time: 2020-04-02 00:25:36\n",
      "-------------------------------------------\n",
      "Tweets in this batch: 0\n",
      "\n"
     ]
    }
   ],
   "source": [
    "\n",
    "ssc = StreamingContext(sc,6) # 6 seconds\n",
    "\n",
    "kafkaStream = KafkaUtils.createDirectStream(ssc,['twitter-tweets'], {\"metadata.broker.list\":'3.82.109.17:9092'})\n",
    "\n",
    "#kafkaStream = KafkaUtils.createStream(ssc, '3.82.109.17:2181', 'my_third_app',{'twitter-tweets':1})\n",
    "\n",
    "lines = kafkaStream.map(lambda x: json.loads(x[1]))\n",
    "lines.count().map(lambda x:'Tweets in this batch: %s' % x).pprint()\n",
    "#lines.pprint()\n",
    "\n",
    "ssc.start()\n",
    "ssc.awaitTermination()\n"
   ]
  },
  {
   "cell_type": "code",
   "execution_count": null,
   "metadata": {},
   "outputs": [],
   "source": []
  }
 ],
 "metadata": {
  "kernelspec": {
   "display_name": "Python 3",
   "language": "python",
   "name": "python3"
  },
  "language_info": {
   "codemirror_mode": {
    "name": "ipython",
    "version": 3
   },
   "file_extension": ".py",
   "mimetype": "text/x-python",
   "name": "python",
   "nbconvert_exporter": "python",
   "pygments_lexer": "ipython3",
   "version": "3.7.3"
  }
 },
 "nbformat": 4,
 "nbformat_minor": 2
}
